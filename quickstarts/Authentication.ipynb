{
  "cells": [
    {
      "cell_type": "markdown",
      "metadata": {
        "id": "view-in-github",
        "colab_type": "text"
      },
      "source": [
        "<a href=\"https://colab.research.google.com/github/MatthewDanh/AI/blob/main/quickstarts/Authentication.ipynb\" target=\"_parent\"><img src=\"https://colab.research.google.com/assets/colab-badge.svg\" alt=\"Open In Colab\"/></a>"
      ]
    },
    {
      "cell_type": "markdown",
      "metadata": {
        "id": "Tce3stUlHN0L"
      },
      "source": [
        "##### Copyright 2025 Google LLC."
      ]
    },
    {
      "cell_type": "code",
      "execution_count": 1,
      "metadata": {
        "cellView": "form",
        "id": "tuOe1ymfHZPu"
      },
      "outputs": [],
      "source": [
        "# @title Licensed under the Apache License, Version 2.0 (the \"License\");\n",
        "# you may not use this file except in compliance with the License.\n",
        "# You may obtain a copy of the License at\n",
        "#\n",
        "# https://www.apache.org/licenses/LICENSE-2.0\n",
        "#\n",
        "# Unless required by applicable law or agreed to in writing, software\n",
        "# distributed under the License is distributed on an \"AS IS\" BASIS,\n",
        "# WITHOUT WARRANTIES OR CONDITIONS OF ANY KIND, either express or implied.\n",
        "# See the License for the specific language governing permissions and\n",
        "# limitations under the License."
      ]
    },
    {
      "cell_type": "markdown",
      "metadata": {
        "id": "yeadDkMiISin"
      },
      "source": [
        "# Gemini API: Authentication Quickstart"
      ]
    },
    {
      "cell_type": "markdown",
      "metadata": {
        "id": "lEXQ3OwKIa-O"
      },
      "source": [
        "<a target=\"_blank\" href=\"https://colab.research.google.com/github/google-gemini/cookbook/blob/main/quickstarts/Authentication.ipynb\"><img src=\"https://colab.research.google.com/assets/colab-badge.svg\" height=30/></a>"
      ]
    },
    {
      "cell_type": "markdown",
      "metadata": {
        "id": "df1767a3d1cc"
      },
      "source": [
        "The Gemini API uses API keys for authentication. This notebook walks you through creating an API key, and using it with the Python SDK or a command-line tool like `curl`."
      ]
    },
    {
      "cell_type": "markdown",
      "metadata": {
        "id": "mhFKmRmxi5B-"
      },
      "source": [
        "## Create an API key\n",
        "\n",
        "You can [create](https://aistudio.google.com/app/apikey) your API key using Google AI Studio with a single click.  \n",
        "\n",
        "Remember to treat your API key like a password. Don't accidentally save it in a notebook or source file you later commit to GitHub. This notebook shows you two ways you can securely store your API key.\n",
        "\n",
        "* If you're using Google Colab, it's recommended to store your key in Colab Secrets.\n",
        "\n",
        "* If you're using a different development environment (or calling the Gemini API through `cURL` in your terminal), it's recommended to store your key in an [environment variable](https://en.wikipedia.org/wiki/Environment_variable).\n",
        "\n",
        "Let's start with Colab Secrets."
      ]
    },
    {
      "cell_type": "markdown",
      "metadata": {
        "id": "dEoigYI9Jw_K"
      },
      "source": [
        "## Add your key to Colab Secrets\n",
        "\n",
        "Add your API key to the Colab Secrets manager to securely store it.\n",
        "\n",
        "1. Open your Google Colab notebook and click on the 🔑 **Secrets** tab in the left panel.\n",
        "   \n",
        "   <img src=\"https://storage.googleapis.com/generativeai-downloads/images/secrets.jpg\" alt=\"You can find the Secrets tab on the left panel.\" width=50%>\n",
        "\n",
        "2. Create a new secret with the name `GOOGLE_API_KEY`.\n",
        "3. Copy and paste your API key into the `Value` input box of `GOOGLE_API_KEY`.\n",
        "4. Toggle the button on the left to allow all notebooks access to the secret.\n"
      ]
    },
    {
      "cell_type": "markdown",
      "metadata": {
        "id": "jRY1eioF4gUB"
      },
      "source": [
        "## Install the Python SDK"
      ]
    },
    {
      "cell_type": "code",
      "execution_count": 2,
      "metadata": {
        "id": "xuiLSV7amy3P",
        "colab": {
          "base_uri": "https://localhost:8080/"
        },
        "outputId": "7302fea0-c32e-4b2d-e553-05b4c7034abb"
      },
      "outputs": [
        {
          "output_type": "stream",
          "name": "stdout",
          "text": [
            "\u001b[2K     \u001b[90m━━━━━━━━━━━━━━━━━━━━━━━━━━━━━━━━━━━━━━━━\u001b[0m \u001b[32m45.8/45.8 kB\u001b[0m \u001b[31m1.4 MB/s\u001b[0m eta \u001b[36m0:00:00\u001b[0m\n",
            "\u001b[2K   \u001b[90m━━━━━━━━━━━━━━━━━━━━━━━━━━━━━━━━━━━━━━━━\u001b[0m \u001b[32m238.5/238.5 kB\u001b[0m \u001b[31m4.8 MB/s\u001b[0m eta \u001b[36m0:00:00\u001b[0m\n",
            "\u001b[?25h"
          ]
        }
      ],
      "source": [
        "%pip install -qU 'google-genai>=1.0.0'"
      ]
    },
    {
      "cell_type": "markdown",
      "metadata": {
        "id": "3dw8ygh74mVc"
      },
      "source": [
        "## Configure the SDK with your API key\n",
        "\n",
        "You create a client using your API key, but instead of pasting your key into the notebook, you'll read it from Colab Secrets thanks to `userdata`."
      ]
    },
    {
      "cell_type": "code",
      "execution_count": 13,
      "metadata": {
        "id": "DTl-qZp34sht"
      },
      "outputs": [],
      "source": [
        "import google.generativeai as genai\n",
        "from google.colab import userdata\n",
        "\n",
        "GOOGLE_API_KEY = userdata.get('GOOGLE_API_KEY')\n",
        "genai.configure(api_key=GOOGLE_API_KEY)"
      ]
    },
    {
      "cell_type": "markdown",
      "metadata": {
        "id": "b7ceb7517bf5"
      },
      "source": [
        "Now choose a model. The Gemini API offers different models that are optimized for specific use cases. For more information check [Gemini models](https://ai.google.dev/gemini-api/docs/models)"
      ]
    },
    {
      "cell_type": "code",
      "execution_count": 16,
      "metadata": {
        "id": "7135d9ae3e4b"
      },
      "outputs": [],
      "source": [
        "MODEL_ID = \"gemini-2.5-pro\" # @param [\"gemini-2.5-flash-lite\", \"gemini-2.5-flash-lite-preview-09-2025\", \"gemini-2.5-flash\", \"gemini-2.5-flash-preview-09-2025\", \"gemini-2.5-pro\"] {\"allow-input\":true, isTemplate: true}"
      ]
    },
    {
      "cell_type": "markdown",
      "metadata": {
        "id": "tr7oAO6-nMsE"
      },
      "source": [
        "And that's it! Now you're ready to call the Gemini API."
      ]
    },
    {
      "cell_type": "code",
      "execution_count": 19,
      "metadata": {
        "id": "n6sXnWrJoKoo",
        "colab": {
          "base_uri": "https://localhost:8080/",
          "height": 1000
        },
        "outputId": "3f660995-7cab-4f2d-872a-cdaa371fcffb"
      },
      "outputs": [
        {
          "output_type": "display_data",
          "data": {
            "text/plain": [
              "<IPython.core.display.Markdown object>"
            ],
            "text/markdown": "Of course! Sorting a list in Python is a common task, and there are two primary ways to do it.\n\nHere’s a complete guide, from the simplest methods to more advanced sorting with custom rules.\n\n### The 2 Main Ways to Sort a List\n\n1.  **`list.sort()` method:** Modifies the list in-place (the original list is changed).\n2.  **`sorted()` function:** Returns a new, sorted list, leaving the original list unchanged.\n\n---\n\n### Method 1: The `list.sort()` Method (In-place)\n\nThis method is part of the list object itself. It sorts the list and doesn't return anything (it returns `None`).\n\n#### Basic Ascending Sort\n\n```python\n# A list of numbers\nnumbers = [3, 1, 4, 1, 5, 9, 2, 6]\nprint(f\"Original list: {numbers}\")\n\n# Sorts the list in-place (from smallest to largest)\nnumbers.sort()\n\nprint(f\"Sorted list:   {numbers}\")\n\n# A list of strings\nwords = [\"banana\", \"apple\", \"cherry\", \"date\"]\nprint(f\"\\nOriginal list: {words}\")\n\n# Sorts alphabetically\nwords.sort()\n\nprint(f\"Sorted list:   {words}\")\n```\n\n**Output:**\n\n```\nOriginal list: [3, 1, 4, 1, 5, 9, 2, 6]\nSorted list:   [1, 1, 2, 3, 4, 5, 6, 9]\n\nOriginal list: ['banana', 'apple', 'cherry', 'date']\nSorted list:   ['apple', 'banana', 'cherry', 'date']\n```\n\n#### Sorting in Descending Order\n\nUse the `reverse=True` argument.\n\n```python\nnumbers = [3, 1, 4, 1, 5, 9, 2, 6]\nprint(f\"Original list: {numbers}\")\n\n# Sorts the list in-place in descending order\nnumbers.sort(reverse=True)\n\nprint(f\"Sorted list (descending): {numbers}\")\n```\n**Output:**\n```\nOriginal list: [3, 1, 4, 1, 5, 9, 2, 6]\nSorted list (descending): [9, 6, 5, 4, 3, 2, 1, 1]\n```\n\n---\n\n### Method 2: The `sorted()` Function (Returns a New List)\n\nThis is a built-in Python function that can sort any iterable (like lists, tuples, strings, etc.). It's often preferred when you want to keep a copy of the original, unsorted list.\n\n#### Basic Ascending Sort\n\n```python\nnumbers = [3, 1, 4, 1, 5, 9, 2, 6]\nprint(f\"Original list: {numbers}\")\n\n# Creates a NEW sorted list\nsorted_numbers = sorted(numbers)\n\nprint(f\"New sorted list: {sorted_numbers}\")\nprint(f\"Original list is unchanged: {numbers}\")\n```\n\n**Output:**\n\n```\nOriginal list: [3, 1, 4, 1, 5, 9, 2, 6]\nNew sorted list: [1, 1, 2, 3, 4, 5, 6, 9]\nOriginal list is unchanged: [3, 1, 4, 1, 5, 9, 2, 6]\n```\n\n#### Sorting in Descending Order\n\nJust like `.sort()`, it also accepts the `reverse=True` argument.\n\n```python\nnumbers = [3, 1, 4, 1, 5, 9, 2, 6]\nprint(f\"Original list: {numbers}\")\n\n# Creates a new list sorted in descending order\nsorted_desc = sorted(numbers, reverse=True)\n\nprint(f\"New sorted list (descending): {sorted_desc}\")\nprint(f\"Original list is unchanged: {numbers}\")\n```\n**Output:**\n```\nOriginal list: [3, 1, 4, 1, 5, 9, 2, 6]\nNew sorted list (descending): [9, 6, 5, 4, 3, 2, 1, 1]\nOriginal list is unchanged: [3, 1, 4, 1, 5, 9, 2, 6]\n```\n\n---\n\n### Advanced Sorting with a Custom `key`\n\nWhat if you want to sort based on a custom rule? For example, sorting a list of strings by their length. This is where the `key` argument is incredibly powerful.\n\nThe `key` argument expects a function that takes one element and returns a value to be used for sorting.\n\n#### Example 1: Sorting by Length of String\n\n```python\nwords = [\"kiwi\", \"banana\", \"pie\", \"apple\"]\n\n# Sort by the length of each word using the built-in len() function as the key\nsorted_by_length = sorted(words, key=len)\n\nprint(f\"Sorted by length: {sorted_by_length}\")\n```\n**Output:**\n```\nSorted by length: ['pie', 'kiwi', 'apple', 'banana']\n```\nHere, `len` is called on each item (`\"kiwi\"`, `\"banana\"`, etc.), and the list is sorted based on the results (`4`, `6`, `3`, `5`).\n\n#### Example 2: Sorting a List of Dictionaries\n\nThis is a very common use case. You can use a `lambda` (a small, anonymous function) to specify which dictionary key to sort by.\n\n```python\nstudents = [\n    {'name': 'Alice', 'grade': 90},\n    {'name': 'Charlie', 'grade': 85},\n    {'name': 'Bob', 'grade': 85},\n]\n\n# Sort students by their grade (ascending)\nsorted_by_grade = sorted(students, key=lambda student: student['grade'])\n\nprint(\"--- Sorted by grade (ascending) ---\")\nfor student in sorted_by_grade:\n    print(student)\n\n# Sort students by grade (descending), then by name (ascending) for ties\nsorted_complex = sorted(students, key=lambda s: (-s['grade'], s['name']))\n\nprint(\"\\n--- Sorted by grade (desc), then name (asc) ---\")\nfor student in sorted_complex:\n    print(student)\n```\n**Output:**\n```\n--- Sorted by grade (ascending) ---\n{'name': 'Charlie', 'grade': 85}\n{'name': 'Bob', 'grade': 85}\n{'name': 'Alice', 'grade': 90}\n\n--- Sorted by grade (desc), then name (asc) ---\n{'name': 'Alice', 'grade': 90}\n{'name': 'Bob', 'grade': 85}\n{'name': 'Charlie', 'grade': 85}\n```\n*Note on the complex sort:* The `key` returns a tuple `(-s['grade'], s['name'])`. Python sorts by the first element in the tuple, and if there's a tie, it uses the second element, and so on. We negate the grade (`-s['grade']`) as a simple trick to make it sort in descending order for numbers.\n\n---\n\n### Summary: `sort()` vs `sorted()`\n\n| Feature          | `list.sort()`                                 | `sorted()` function                                   |\n| ---------------- | --------------------------------------------- | ----------------------------------------------------- |\n| **Action**       | Modifies the list **in-place**.               | **Returns a new** sorted list.                        |\n| **Return Value** | `None`                                        | The new sorted list.                                  |\n| **Can be used on** | Only lists.                                   | Any iterable (lists, tuples, dictionaries, strings).  |\n| **Usage**        | `my_list.sort()`                              | `new_list = sorted(my_iterable)`                      |\n\n**Rule of Thumb:**\n\n*   Use `list.sort()` when you don't need the original list anymore and want to save memory.\n*   Use `sorted()` when you need to keep the original list intact or when you are sorting something that isn't a list (like a tuple). The `sorted()` function is generally more common and safer to use."
          },
          "metadata": {}
        }
      ],
      "source": [
        "from IPython.display import Markdown\n",
        "\n",
        "model = genai.GenerativeModel(model_name=MODEL_ID)\n",
        "response = model.generate_content(\n",
        "    contents=\"Please give me python code to sort a list.\"\n",
        ")\n",
        "\n",
        "display(Markdown(response.text))"
      ]
    },
    {
      "cell_type": "markdown",
      "metadata": {
        "id": "BTdQtZri1Brs"
      },
      "source": [
        "## Store your key in an environment variable"
      ]
    },
    {
      "cell_type": "markdown",
      "metadata": {
        "id": "gZDX51Y27pN4"
      },
      "source": [
        "If you're using a different development environment (or calling the Gemini API through `cURL` in your terminal), it's recommended to store your key in an environment variable.\n",
        "\n",
        "To store your key in an environment variable, open your terminal and run:\n",
        "\n",
        "```export GOOGLE_API_KEY=\"YOUR_API_KEY\"```\n",
        "\n",
        "If you're using Python, you can add these two lines to your notebook to read the key:\n",
        "\n",
        "```\n",
        "import os\n",
        "client = genai.Client(api_key=os.environ['GOOGLE_API_KEY'])\n",
        "```\n",
        "\n",
        "Alternatively, if it isn't provided explicitly, the client will look for the API key.\n",
        "\n",
        "```\n",
        "client = genai.Client()\n",
        "```\n",
        "\n",
        "Or, if you're calling the API through your terminal using `cURL`, you can copy and paste this code to read your key from the environment variable.\n",
        "\n",
        "```\n",
        "curl \"https://generativelanguage.googleapis.com/v1beta/models/gemini-2.5-flash:generateContent?key=$GOOGLE_API_KEY\" \\\n",
        "    -H 'Content-Type: application/json' \\\n",
        "    -X POST \\\n",
        "    -d '{\n",
        "      \"contents\": [{\n",
        "        \"parts\":[{\n",
        "          \"text\": \"Please give me Python code to sort a list.\"\n",
        "        }]\n",
        "      }]\n",
        "    }'\n",
        "```\n"
      ]
    },
    {
      "cell_type": "markdown",
      "metadata": {
        "id": "CAOKOcax1xZY"
      },
      "source": [
        "## Learning more\n",
        "\n",
        "Now that you know how to manage your API key, you've everything to [get started](./Get_started.ipynb) with Gemini. Check all the [quickstart guides](https://github.com/google-gemini/cookbook/tree/main/quickstarts) from the Cookbook, and in particular the [Get started](./Get_started.ipynb) one."
      ]
    }
  ],
  "metadata": {
    "colab": {
      "name": "Authentication.ipynb",
      "provenance": [],
      "include_colab_link": true
    },
    "google": {
      "image_path": "/site-assets/images/share.png",
      "keywords": [
        "examples",
        "googleai",
        "samplecode",
        "python",
        "embed",
        "function"
      ]
    },
    "kernelspec": {
      "display_name": "Python 3",
      "name": "python3"
    }
  },
  "nbformat": 4,
  "nbformat_minor": 0
}